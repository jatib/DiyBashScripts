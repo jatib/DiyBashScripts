{
 "cells": [
  {
   "cell_type": "code",
   "execution_count": 62,
   "metadata": {},
   "outputs": [
    {
     "name": "stdout",
     "output_type": "stream",
     "text": [
      "[u'\\n\\n\\n\\n\\n\\n\\n\\n\\n\\n\\n\\n\\n\\n\\n\\n\\n\\n\\n\\n\\n\\n\\n\\n\\n\\n\\n\\n\\n\\n\\n\\n\\n\\n\\n\\n\\n\\n\\nh\\n\\ni\\n\\n\\n\\nh\\n\\ni\\n\\n\\nh\\n\\ni\\n\\n\\n\\nh\\n\\ni\\n\\nh\\n\\ni\\n\\n\\nh\\n\\ni\\n\\n\\n\\n\\n\\n\\n\\n\\n\\n\\n\\n\\n\\n\\n\\n\\n\\n\\n\\n\\n\\n\\n\\n\\n\\n\\n\\n\\n\\nh\\n\\ni\\n\\n\\nh\\n\\ni\\n\\n\\n\\n\\n\\n\\n\\n\\n\\n\\n\\n\\n\\n\\n\\n\\n\\n\\n\\n\\n\\n\\n\\n\\n\\n\\n\\n\\n\\n\\n\\n\\n\\n\\n\\n\\n\\n\\n\\n\\n\\n\\n\\n\\n\\nh\\n\\ni\\n\\n\\n\\n\\n\\nh\\n\\ni\\n\\n\\n\\n\\n\\n\\n\\n\\n\\n\\n\\n\\n\\n\\n\\n\\n\\n\\n\\n\\n\\n\\n\\n\\n\\n\\n\\n\\n\\n\\n\\n\\n\\n\\n\\n\\n\\n\\n\\n\\n\\n\\n\\n\\n\\n\\n\\n\\n\\n\\n\\n\\n\\n\\n\\n\\n\\n\\n\\n\\n\\n\\n\\n\\n\\n\\n\\n\\n\\n\\n\\n\\n\\n\\n\\n\\n\\n\\n\\n\\n\\n\\n\\n\\n\\n\\n\\n\\n\\n\\n\\n\\n\\n\\n\\n\\n\\n\\n\\n\\n\\n\\n\\n\\n\\n\\n\\n\\n\\n\\n\\n\\n\\n\\n\\n\\n\\n\\n\\n\\n\\n\\n\\n\\n\\n\\n\\n\\n\\n\\n\\n\\n\\n\\n\\n\\n\\n\\n\\n\\n\\n\\n\\n\\n\\n\\n\\n\\n\\n\\n\\n\\n\\n\\n\\n\\n\\n\\n\\n\\n\\n\\n\\n\\n\\n\\n\\n\\n\\n\\n\\n\\n\\n\\n\\n\\n\\n\\n\\n\\n\\n\\n\\n\\n\\n\\n\\n\\n\\n\\n\\n\\n\\n\\n\\n\\n\\n\\n\\n\\n\\n\\n\\n\\n\\n\\n\\n\\n\\n\\n\\n\\n\\n\\n\\n\\n\\n\\n\\n\\n\\n\\n\\n\\n\\n\\n\\n\\n\\n\\n\\n\\n\\n\\n\\n\\n\\n\\n\\n\\n\\n\\n\\n\\n\\n\\n\\n\\n\\n\\n\\n\\n\\n\\n\\n\\n\\n\\n\\n\\n\\n\\n\\n\\n\\n\\n\\n\\n\\n\\n\\n\\n\\n\\n\\n\\n\\n\\n\\n\\n\\n\\n\\n\\n\\n\\n\\n\\n\\n\\n\\n\\n\\n\\n\\n\\n\\n\\n\\n\\n\\n\\n\\n\\n\\n\\n\\n\\n\\n\\n\\n\\n\\n\\n\\n\\n\\n\\n\\n\\n\\n\\n\\n\\n\\n\\n\\n\\n\\n\\n\\n\\n\\n\\n\\n\\n\\n\\n\\n\\n\\n\\n\\n\\n\\n\\n\\n\\n\\n\\n\\n\\n\\n\\n\\n\\n\\n\\n\\n\\n\\n\\n\\n\\n\\n\\n\\n\\n\\n\\n\\n\\n\\n\\n\\n\\n\\n\\n\\n\\n\\n\\n\\n\\n\\n\\n\\n\\n\\n\\n\\n\\n\\n\\n\\n\\n\\n\\n\\n\\n\\n\\n\\n\\n\\n\\n\\n\\n\\n\\n\\n\\n\\n\\n\\n\\n\\n\\n\\n\\n\\n\\n\\n\\n\\n\\n\\n\\n\\n\\n\\n\\n\\n\\n\\n\\n\\n\\n\\n\\n\\n\\n\\n\\n\\n\\n\\n\\n\\n\\n\\n\\n\\n\\n\\n\\n\\n\\n\\n\\n\\n\\n\\n\\n\\n\\n\\n\\n\\n\\n\\n\\n\\n\\n\\n\\n\\n\\n\\n\\n\\n\\n\\n\\n\\n\\n\\n\\n\\n\\n\\n\\n\\n\\n\\n\\n\\n\\n\\n\\n\\n\\n\\n\\n\\n\\n\\n\\n\\n\\n\\n\\n\\n\\n\\n\\n\\n\\n\\n\\n\\n\\n\\n\\n\\n\\n\\n\\n\\n\\n\\n\\n\\n\\n\\n\\n\\n\\n\\n\\n\\n\\n\\n\\n\\n\\n\\n\\n\\n\\n\\n\\n\\n\\n\\n\\n\\n\\n\\n\\n\\n\\n', u'SEBASTIAN DEL PIOMBO\\n, 82-2, , NONOALCO, , BENITO \\nJUAREZ, CIUDAD DE MEXICO,MEXICO, C.P. 03700, Tel  \\n56832154, 56839289EDS0508123K0 284903/03/2017Dirigido a :VENTAS\\nCliente:ConfirmadoFOLIOFECHAESTATUS\\nINFORMACI\\xd3N DEL CLIENTE\\n3,044 ARIAM MORALES CORTES \\n/ARIAM Direcci\\xf3n:AQUILES SERDAN 4 C , CENTRO, , Oaxaca, OAXACA DE JUAREZ\\n, MEXICORFC:MOCA831110C94\\nPEDIDOEAO DIGITAL SOLUTIONS S.A. DE C.V.\\nPESOSAGENTE DE VENTAS\\nLETICIA FLORES DE LA CRUZ\\nINFORMACI\\xd3N DEL PAGO\\nM\\xe9todo pago:99 OtrosForma pago:CONTADO\\nINFORMACI\\xd3N DEL EQUIPO\\nClaveDescripci\\xf3nCant.P. U.SubtotalTotal\\nAlmacenZonSec.AnaqueEspacioNombre:MONEDA006R01573XEROX CARTUCHO DE TONER NEGRO \\nWC5024 9K$894.00PRINCIPAL\\n 3XEROX1A6$3,111.12\\n$2,682.00ENVIOENVIO DE MERCANCIA$170.00PRINCIPAL\\n 1$197.20$170.00TOTAL\\nI.V.A.DESC.SUB-TOTAL\\n 16%$2,852.00 0.00$3,308.32$456.32Importe con Letras:TRES MIL TRESCIENTOS OCHO PESOS 32/100 MXN\\nNOTA\\n:03/03/201704:02:25p.m.Page 1 of 1Fecha y hora de impresion:']\n"
     ]
    }
   ],
   "source": [
    "# -*- coding: utf-8 -*-\n",
    "# importing package\n",
    "from __future__ import division\n",
    "import os\n",
    "import re\n",
    "import sys\n",
    "import nltk\n",
    "import gensim\n",
    "import pprint\n",
    "import shutil\n",
    "import PyPDF2\n",
    "import textract\n",
    "import unicodedata\n",
    "# importing package functions\n",
    "from nltk import *\n",
    "from nltk.corpus import stopwords\n",
    "from nltk.tokenize import word_tokenize\n",
    "# Define base files to compare\n",
    "path = '/home/sistemas/Documentos/Recuperados/pdf/Eliminar/Facturas/'\n",
    "name2 = 'f1558602112.pdf'\n",
    "name = '/home/sistemas/Documentos/Recuperados/pdf/f1424228096.pdf'\n",
    "#Scripts/base.pdf'\n",
    "#name2 = '/home/sistemas/Documentos/PDF/Thebeamertheme-cuernabeamertheme∗GeriOchoageri@bluesimplexcomSeptember24,20161IntroductionThispack0.pdf'\n",
    "compareFiles = [name,path+name2]\n",
    "raw_documents = []\n",
    "# Define the RAW text to compare\n",
    "for i in compareFiles:\n",
    "        count = 0\n",
    "        text = \"\"\n",
    "        pdfFileObj = open(i,'rb')\n",
    "        pdfReader = PyPDF2.PdfFileReader(pdfFileObj)\n",
    "        num_pages = pdfReader.numPages\n",
    "        while count < num_pages:\n",
    "                pageObj = pdfReader.getPage(count)\n",
    "                count +=1\n",
    "                text += pageObj.extractText()\n",
    "        #text=unicodedata.normalize('NFKD',text).encode('ascii','ignore')\n",
    "        raw_documents.append(text)\n",
    "        \n",
    "print raw_documents"
   ]
  },
  {
   "cell_type": "code",
   "execution_count": 42,
   "metadata": {},
   "outputs": [
    {
     "name": "stdout",
     "output_type": "stream",
     "text": [
      "['', '']\n"
     ]
    }
   ],
   "source": [
    "# -*- coding: utf-8 -*-\n",
    "# importing package\n",
    "from __future__ import division\n",
    "import os\n",
    "import re\n",
    "import sys\n",
    "import nltk\n",
    "import gensim\n",
    "import pprint\n",
    "import shutil\n",
    "import PyPDF2\n",
    "import textract\n",
    "import unicodedata\n",
    "# importing package functions\n",
    "from nltk import *\n",
    "from nltk.corpus import stopwords\n",
    "from nltk.tokenize import word_tokenize\n",
    "# Define base files to compare\n",
    "path = '/home/sistemas/Compras/Recuperados/pdf/renombrar'\n",
    "name = '/home/sistemas/Documentos/Scripts/base.pdf'\n",
    "#name=\"/home/sistemas/\"\n",
    "#name+=\"Compras/Pedidos Mayoristas/Pedidos Mayoristas 2017/Makicop\"\n",
    "#name+=\"/01 Enero/Makicop 289 Toner Sharp 2610 31Ene17/\"\n",
    "#name+=\"TR 15957 FACT. M 8961 MAKICOP.pdf\"\n",
    "name2 = '/home/sistemas/Documentos/PDF/Thebeamertheme-cuernabeamertheme∗GeriOchoageri@bluesimplexcomSeptember24,20161IntroductionThispack0.pdf'\n",
    "compareFiles = [name,name2]\n",
    "raw_documents = []\n",
    "# Define the RAW text to compare\n",
    "for i in compareFiles:\n",
    "        count = 0\n",
    "        text = \"\"\n",
    "        pdfFileObj = open(i,'rb')\n",
    "        pdfReader = PyPDF2.PdfFileReader(pdfFileObj)\n",
    "        num_pages = pdfReader.numPages\n",
    "        while count < num_pages:\n",
    "                pageObj = pdfReader.getPage(count)\n",
    "                count +=1\n",
    "                text += pageObj.extractText()\n",
    "        text=unicodedata.normalize('NFKD',text).encode('ascii','ignore')\n",
    "        raw_documents.append(text)\n",
    "\n",
    "print raw_documents\n",
    "# Tokenize text\n",
    "gen_docs = [[w.lower() for w in word_tokenize(text)] \n",
    "            for text in raw_documents]"
   ]
  }
 ],
 "metadata": {
  "kernelspec": {
   "display_name": "Python 2",
   "language": "python",
   "name": "python2"
  },
  "language_info": {
   "codemirror_mode": {
    "name": "ipython",
    "version": 2
   },
   "file_extension": ".py",
   "mimetype": "text/x-python",
   "name": "python",
   "nbconvert_exporter": "python",
   "pygments_lexer": "ipython2",
   "version": "2.7.15"
  }
 },
 "nbformat": 4,
 "nbformat_minor": 2
}
