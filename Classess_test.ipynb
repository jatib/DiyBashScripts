{
 "cells": [
  {
   "cell_type": "code",
   "execution_count": 15,
   "metadata": {},
   "outputs": [],
   "source": [
    "def prueba_ambitos():\n",
    "    def hacer_local():\n",
    "        algo = \"algo local\"\n",
    "    def hacer_nonlocal():\n",
    "        nonlocal algo\n",
    "        algo = \"algo no local\"\n",
    "    def hacer_global():\n",
    "        global algo\n",
    "        algo = \"algo global\"\n",
    "    algo = \"algo de prueba\"\n",
    "    hacer_local()\n",
    "    print(\"Luego de la asignación local:\", algo)\n",
    "    hacer_nonlocal()\n",
    "    print(\"Luego de la asignación no local:\", algo)\n",
    "    hacer_global()\n",
    "    print(\"Luego de la asignación global:\", algo)"
   ]
  },
  {
   "cell_type": "code",
   "execution_count": 16,
   "metadata": {},
   "outputs": [
    {
     "name": "stdout",
     "output_type": "stream",
     "text": [
      "Luego de la asignación local: algo de prueba\n",
      "Luego de la asignación no local: algo no local\n",
      "Luego de la asignación global: algo no local\n"
     ]
    }
   ],
   "source": [
    "prueba_ambitos()"
   ]
  }
 ],
 "metadata": {
  "kernelspec": {
   "display_name": "Python 3",
   "language": "python",
   "name": "python3"
  },
  "language_info": {
   "codemirror_mode": {
    "name": "ipython",
    "version": 3
   },
   "file_extension": ".py",
   "mimetype": "text/x-python",
   "name": "python",
   "nbconvert_exporter": "python",
   "pygments_lexer": "ipython3",
   "version": "3.7.3"
  }
 },
 "nbformat": 4,
 "nbformat_minor": 2
}
