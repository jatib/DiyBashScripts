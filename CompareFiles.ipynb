{
 "cells": [
  {
   "cell_type": "code",
   "execution_count": 1,
   "metadata": {},
   "outputs": [],
   "source": [
    "import lorem"
   ]
  },
  {
   "cell_type": "code",
   "execution_count": 25,
   "metadata": {},
   "outputs": [],
   "source": [
    "def mergeText(ruta):\n",
    "    #file = open(ruta,\"r\")\n",
    "    #lines = file.readlines()\n",
    "    text = \"\"\n",
    "    for line in ruta:\n",
    "        for char in line.split(\"\\n\")[0].split(\" \"):\n",
    "            text += char\n",
    "    return text"
   ]
  },
  {
   "cell_type": "code",
   "execution_count": 5,
   "metadata": {},
   "outputs": [],
   "source": [
    "s = lorem.sentence()\n",
    "p = lorem.paragraph()\n",
    "t = lorem.text()"
   ]
  },
  {
   "cell_type": "code",
   "execution_count": 11,
   "metadata": {},
   "outputs": [],
   "source": [
    "s2 = lorem.sentence()\n",
    "p2 = lorem.paragraph()\n",
    "t2 = lorem.text()"
   ]
  },
  {
   "cell_type": "code",
   "execution_count": 23,
   "metadata": {},
   "outputs": [],
   "source": [
    "s3 = s\n",
    "p3 = p\n",
    "t3 = t"
   ]
  },
  {
   "cell_type": "code",
   "execution_count": 38,
   "metadata": {},
   "outputs": [],
   "source": [
    "t4 = \"\"\n",
    "for i in range(int(len(t)/2)):\n",
    "    t4 += t[i]"
   ]
  },
  {
   "cell_type": "code",
   "execution_count": 41,
   "metadata": {},
   "outputs": [
    {
     "name": "stdout",
     "output_type": "stream",
     "text": [
      "yes\n"
     ]
    }
   ],
   "source": [
    "if mergeText(t) in mergeText(t):\n",
    "    print(\"yes\")\n",
    "else:\n",
    "    print(\"no\")"
   ]
  },
  {
   "cell_type": "code",
   "execution_count": 15,
   "metadata": {},
   "outputs": [
    {
     "name": "stdout",
     "output_type": "stream",
     "text": [
      "Quaerat tempora adipisci quisquam ipsum porro dolore non.\n",
      "Sed eius etincidunt quisquam modi aliquam adipisci adipisci.\n"
     ]
    }
   ],
   "source": [
    "print(s)\n",
    "print(s2)"
   ]
  },
  {
   "cell_type": "code",
   "execution_count": 16,
   "metadata": {},
   "outputs": [
    {
     "name": "stdout",
     "output_type": "stream",
     "text": [
      "Non numquam ut quiquia. Voluptatem sed numquam non dolor dolore sit amet. Sit sed sit consectetur quisquam consectetur ipsum. Quiquia tempora quaerat porro magnam. Modi etincidunt sed consectetur. Quaerat est aliquam ut est. Sit modi modi voluptatem.\n",
      "Aliquam non quisquam neque aliquam dolor magnam. Etincidunt quisquam labore adipisci velit modi dolorem. Dolor sit modi magnam est consectetur. Amet dolor sit quiquia ut non tempora dolorem. Ut quiquia sit porro. Neque dolore numquam ut modi. Voluptatem labore magnam dolor est porro quaerat. Etincidunt sit sed quaerat aliquam ut etincidunt dolore.\n"
     ]
    }
   ],
   "source": [
    "print(p)\n",
    "print(p2)"
   ]
  },
  {
   "cell_type": "code",
   "execution_count": 20,
   "metadata": {},
   "outputs": [
    {
     "name": "stdout",
     "output_type": "stream",
     "text": [
      "Consectetur velit neque ipsum porro sit numquam. Magnam labore dolorem porro numquam. Modi numquam consectetur consectetur. Tempora dolore neque amet dolorem velit adipisci ut. Sit aliquam consectetur dolore numquam dolor. Eius amet dolorem numquam eius est labore quiquia. Labore sit numquam magnam etincidunt porro non est. Est tempora modi quisquam. Dolor tempora tempora adipisci magnam quiquia magnam. Dolorem voluptatem sed labore amet porro amet.\n",
      "\n",
      "Voluptatem ut etincidunt consectetur modi voluptatem neque. Labore consectetur non quaerat ipsum numquam. Eius ut velit labore quiquia adipisci dolore dolore. Porro dolor dolorem voluptatem voluptatem porro. Est quisquam sed quaerat est velit quisquam. Etincidunt dolor porro aliquam. Dolor aliquam quaerat dolorem amet.\n",
      "\n",
      "Magnam ut adipisci modi. Quaerat ipsum neque amet ut velit velit voluptatem. Ipsum dolor magnam ipsum. Sed magnam numquam non neque amet. Sed sed voluptatem labore velit adipisci non. Numquam ipsum magnam adipisci. Sed aliquam sit modi labore dolore.\n",
      "\n",
      "Neque dolore sed voluptatem sed numquam neque. Amet labore neque quisquam dolorem. Adipisci ut dolorem amet. Sit ipsum etincidunt amet modi dolore. Quaerat est tempora neque labore eius quaerat.\n",
      "\n",
      "\n",
      "Consectetur numquam dolorem labore modi dolorem adipisci. Eius ipsum non dolor. Magnam modi amet quiquia dolor labore etincidunt quiquia. Modi consectetur tempora tempora. Neque numquam sed quaerat sed dolorem. Neque consectetur adipisci numquam modi ipsum.\n",
      "\n",
      "Adipisci sit quiquia porro voluptatem. Quiquia labore tempora dolore. Quisquam eius labore dolor aliquam velit. Voluptatem consectetur dolor non velit labore amet. Ipsum dolore dolore modi. Eius non est quaerat sed tempora magnam ut. Eius consectetur consectetur quiquia ut sit adipisci dolore. Quaerat ipsum eius quisquam etincidunt aliquam ut velit.\n",
      "\n",
      "Aliquam consectetur consectetur dolorem adipisci porro. Dolor magnam est non sit magnam. Quaerat labore ut sed velit neque. Quaerat modi quiquia sed. Tempora eius labore consectetur magnam.\n"
     ]
    }
   ],
   "source": [
    "print(t)\n",
    "print(t2)"
   ]
  }
 ],
 "metadata": {
  "kernelspec": {
   "display_name": "Python 3",
   "language": "python",
   "name": "python3"
  },
  "language_info": {
   "codemirror_mode": {
    "name": "ipython",
    "version": 3
   },
   "file_extension": ".py",
   "mimetype": "text/x-python",
   "name": "python",
   "nbconvert_exporter": "python",
   "pygments_lexer": "ipython3",
   "version": "3.7.3"
  }
 },
 "nbformat": 4,
 "nbformat_minor": 2
}
