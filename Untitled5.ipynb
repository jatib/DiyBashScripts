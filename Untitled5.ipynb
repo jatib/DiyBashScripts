{
 "cells": [
  {
   "cell_type": "code",
   "execution_count": 59,
   "metadata": {},
   "outputs": [],
   "source": [
    "import matplotlib.path as mpath\n",
    "import matplotlib.patches as mpatches\n",
    "import matplotlib.pyplot as plt"
   ]
  },
  {
   "cell_type": "code",
   "execution_count": null,
   "metadata": {},
   "outputs": [],
   "source": []
  },
  {
   "cell_type": "code",
   "execution_count": 86,
   "metadata": {},
   "outputs": [
    {
     "name": "stdout",
     "output_type": "stream",
     "text": [
      "2.1\n"
     ]
    }
   ],
   "source": [
    "def foo(f,x,d):\n",
    "    return (f(x+d)-f(x))/d    \n",
    "\n",
    "def fun(x):\n",
    "    return x**2\n",
    "\n",
    "def cub(x):\n",
    "    return x**3\n",
    "\n",
    "def li(x):\n",
    "    return x\n",
    "\n",
    "def integ(g,x,p):\n",
    "    integ = 0\n",
    "    #print f(x+(1./p))\n",
    "    #print \":::\",x\n",
    "    for i in range(int(p)+1):\n",
    "        #print i,\":\",g(x+(float(i)/p))*(1./p)\n",
    "        if x > 0:\n",
    "            integ += g(x+(float(i)/p))*(1./p)\n",
    "        else:\n",
    "            integ += g(x+(float(i)/p))*(1./(-p))\n",
    "    #print \"resultados:\",integ,\"\\n\\n\"\n",
    "    return integ\n",
    "\n",
    "print foo(fun,1,0.1)\n",
    "\n"
   ]
  },
  {
   "cell_type": "code",
   "execution_count": 94,
   "metadata": {},
   "outputs": [
    {
     "name": "stdout",
     "output_type": "stream",
     "text": [
      "[-231.385, -200.585, -171.985, -145.585, -121.38499999999999, -99.38499999999999, -79.58500000000001, -61.98500000000001, -46.585, -33.385000000000005, -22.385, -13.585000000000003, -6.984999999999999, -2.5850000000000004, -0.38500000000000006, -0.385, 2.585, 6.985000000000001, 13.585000000000003, 22.384999999999998, 33.385, 46.585, 61.98500000000001, 79.58500000000001, 99.38499999999999, 121.38499999999999, 145.585, 171.985, 200.585, 231.38500000000002]\n",
      "[-25.0, -23.0, -21.0, -19.0, -17.0, -15.0, -13.0, -11.0, -9.0, -7.0, -5.0, -3.0, -1.0, 1.0, 3.0, 5.0, 7.0, 9.0, 11.0, 13.0, 15.0, 17.0, 19.0, 21.0, 23.0, 25.0, 27.0, 29.0, 31.0, 33.0]\n"
     ]
    }
   ],
   "source": [
    "func = []\n",
    "dfunc = []\n",
    "ddfunc = []\n",
    "intFun = []\n",
    "\n",
    "for i in range(-15,15):\n",
    "    intFun.append(integ(fun,i,10))\n",
    "    #func.append(cub(i))\n",
    "    dfunc.append(foo(fun,i,5.))\n",
    "    #ddfunc.append(foo(cub,i,0.1))\n",
    "print intFun\n",
    "print dfunc"
   ]
  },
  {
   "cell_type": "code",
   "execution_count": 95,
   "metadata": {},
   "outputs": [
    {
     "data": {
      "image/png": "[encoded data removed]",
      "text/plain": [
       "<matplotlib.figure.Figure at 0x7f7c1a1e7b50>"
      ]
     },
     "metadata": {},
     "output_type": "display_data"
    }
   ],
   "source": [
    "import matplotlib.pyplot as plt\n",
    "#pp1 = mpatches.PathPatch(\n",
    "#    Path([(0, 0), (1, 0), (1, 1), (0, 0)],))\n",
    "#plt.plot(func)\n",
    "#plt.plot(dfunc)\n",
    "#plt.plot(ddfunc)\n",
    "plt.plot(intFun)\n",
    "plt.ylabel('some numbers')\n",
    "#plt.ylim(ymax=30,ymin=-30)\n",
    "#plt.xlim(xmax=15,xmin=-15)\n",
    "plt.show()"
   ]
  },
  {
   "cell_type": "code",
   "execution_count": 1,
   "metadata": {},
   "outputs": [],
   "source": [
    "def integration(f,x,d):\n",
    "    return f(x)*d"
   ]
  }
 ],
 "metadata": {
  "kernelspec": {
   "display_name": "Python 2",
   "language": "python",
   "name": "python2"
  },
  "language_info": {
   "codemirror_mode": {
    "name": "ipython",
    "version": 2
   },
   "file_extension": ".py",
   "mimetype": "text/x-python",
   "name": "python",
   "nbconvert_exporter": "python",
   "pygments_lexer": "ipython2",
   "version": "2.7.15"
  }
 },
 "nbformat": 4,
 "nbformat_minor": 2
}
