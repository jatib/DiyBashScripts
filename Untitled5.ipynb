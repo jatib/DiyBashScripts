{
 "cells": [
  {
   "cell_type": "code",
   "execution_count": 24,
   "metadata": {},
   "outputs": [
    {
     "name": "stderr",
     "output_type": "stream",
     "text": [
      "/home/sistemas/anaconda2/lib/python2.7/site-packages/matplotlib/font_manager.py:273: UserWarning: Matplotlib is building the font cache using fc-list. This may take a moment.\n",
      "  warnings.warn('Matplotlib is building the font cache using fc-list. This may take a moment.')\n"
     ]
    }
   ],
   "source": [
    "import matplotlib.path as mpath\n",
    "import matplotlib.patches as mpatches\n",
    "import matplotlib.pyplot as plt"
   ]
  },
  {
   "cell_type": "code",
   "execution_count": null,
   "metadata": {},
   "outputs": [],
   "source": []
  },
  {
   "cell_type": "code",
   "execution_count": 35,
   "metadata": {},
   "outputs": [
    {
     "name": "stdout",
     "output_type": "stream",
     "text": [
      "2.1\n"
     ]
    }
   ],
   "source": [
    "def foo(f,x,d):\n",
    "    return (f(x+d)-f(x))/d    \n",
    "\n",
    "def fun(x):\n",
    "    return x**2\n",
    "\n",
    "def cub(x):\n",
    "    return x**3\n",
    "\n",
    "print foo(fun,1,0.1)\n",
    "\n"
   ]
  },
  {
   "cell_type": "code",
   "execution_count": 41,
   "metadata": {},
   "outputs": [
    {
     "name": "stdout",
     "output_type": "stream",
     "text": [
      "[-1331, -1000, -729, -512, -343, -216, -125, -64, -27, -8, -1, 0, 1, 8, 27, 64, 125, 216, 343, 512, 729, 1000, 1331]\n",
      "[-21.899999999999977, -19.89999999999995, -17.89999999999992, -15.899999999999963, -13.899999999999935, -11.899999999999977, -9.899999999999949, -7.900000000000009, -5.899999999999999, -3.9000000000000012, -1.8999999999999995, 0.10000000000000002, 2.100000000000002, 4.100000000000001, 6.100000000000012, 8.099999999999987, 10.09999999999998, 12.099999999999937, 14.099999999999966, 16.099999999999994, 18.09999999999988, 20.09999999999991, 22.099999999999937]\n"
     ]
    }
   ],
   "source": [
    "func = []\n",
    "dfunc = []\n",
    "ddfunc = []\n",
    "for i in range(-11,12):\n",
    "    func.append(cub(i))\n",
    "    dfunc.append(foo(fun,i,0.1))\n",
    "    ddfunc.append(foo(cub,i,0.1))\n",
    "print func\n",
    "print dfunc"
   ]
  },
  {
   "cell_type": "code",
   "execution_count": 54,
   "metadata": {},
   "outputs": [
    {
     "data": {
      "image/png": "[encoded data removed]",
      "text/plain": [
       "<matplotlib.figure.Figure at 0x7fe716737ad0>"
      ]
     },
     "metadata": {},
     "output_type": "display_data"
    }
   ],
   "source": [
    "import matplotlib.pyplot as plt\n",
    "#pp1 = mpatches.PathPatch(\n",
    "#    Path([(0, 0), (1, 0), (1, 1), (0, 0)],))\n",
    "plt.plot(func)\n",
    "plt.plot(dfunc)\n",
    "plt.plot(ddfunc)\n",
    "plt.ylabel('some numbers')\n",
    "#plt.ylim(ymax=30,ymin=-30)\n",
    "#plt.xlim(xmax=15,xmin=-15)\n",
    "plt.show()"
   ]
  },
  {
   "cell_type": "code",
   "execution_count": null,
   "metadata": {},
   "outputs": [],
   "source": []
  }
 ],
 "metadata": {
  "kernelspec": {
   "display_name": "Python 2",
   "language": "python",
   "name": "python2"
  },
  "language_info": {
   "codemirror_mode": {
    "name": "ipython",
    "version": 2
   },
   "file_extension": ".py",
   "mimetype": "text/x-python",
   "name": "python",
   "nbconvert_exporter": "python",
   "pygments_lexer": "ipython2",
   "version": "2.7.15"
  }
 },
 "nbformat": 4,
 "nbformat_minor": 2
}
