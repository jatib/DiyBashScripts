{
 "cells": [
  {
   "cell_type": "code",
   "execution_count": 18,
   "metadata": {},
   "outputs": [],
   "source": [
    "# importing package\n",
    "from __future__ import division\n",
    "import os\n",
    "import re\n",
    "import sys\n",
    "import nltk\n",
    "import gensim\n",
    "import pprint\n",
    "import shutil\n",
    "import PyPDF2\n",
    "import textract\n",
    "import unicodedata\n",
    "# importing package functions\n",
    "from nltk import *\n",
    "from nltk.corpus import stopwords\n",
    "from nltk.tokenize import word_tokenize\n",
    "#reload(sys)\n",
    "#sys.setdefaultencoding('utf8')\n",
    "# Define base files to compare"
   ]
  },
  {
   "cell_type": "code",
   "execution_count": 19,
   "metadata": {},
   "outputs": [],
   "source": [
    "name = '/home/sistemas/Compras/Pedidos Mayoristas/'\n",
    "name += 'Pedidos Mayoristas 2017/Makicop/02 Febrero/'\n",
    "name += 'Makicop 290 Toner Sharp MX-500 23Feb17/'\n",
    "name += 'Recepcion Compra No.910.pdf'\n",
    "name2 = '/home/sistemas/Documentos/Scripts/base.pdf'\n",
    "raw_documents = []\n",
    "compareFiles = [name]"
   ]
  },
  {
   "cell_type": "code",
   "execution_count": 20,
   "metadata": {},
   "outputs": [],
   "source": [
    "count = 0\n",
    "text = \"\"\n",
    "pdfFileObj = open(name,'rb')\n",
    "pdfReader = PyPDF2.PdfFileReader(pdfFileObj)\n",
    "num_pages = pdfReader.numPages\n",
    "while count < num_pages:\n",
    "    pageObj = pdfReader.getPage(count)\n",
    "    count +=1\n",
    "    text += pageObj.extractText()\n",
    "    \n",
    "if text != \"\":\n",
    "    text = text\n",
    "    text=unicodedata.normalize('NFKD',text).encode('ascii','ignore')\n",
    "    raw_documents.append(text)\n",
    "else:\n",
    "    text = textract.process(compareFiles[i], method='tesseract', language='eng')\n",
    "    raw_documents.append(text)"
   ]
  },
  {
   "cell_type": "code",
   "execution_count": 21,
   "metadata": {},
   "outputs": [],
   "source": [
    "count = 0\n",
    "text = \"\"\n",
    "pdfFileObj = open(name,'rb')\n",
    "pdfReader = PyPDF2.PdfFileReader(pdfFileObj)\n",
    "num_pages = pdfReader.numPages\n",
    "while count < num_pages:\n",
    "    pageObj = pdfReader.getPage(count)\n",
    "    count +=1\n",
    "    text += pageObj.extractText()\n",
    "    \n",
    "if text != \"\":\n",
    "    text = text\n",
    "    text=unicodedata.normalize('NFKD',text).encode('ascii','ignore')\n",
    "    raw_documents.append(text)\n",
    "else:\n",
    "    text = textract.process(compareFiles[i], method='tesseract', language='eng')\n",
    "    raw_documents.append(text)"
   ]
  },
  {
   "cell_type": "code",
   "execution_count": 22,
   "metadata": {},
   "outputs": [],
   "source": [
    "gen_docs = [[w.lower() for w in word_tokenize(text)] \n",
    "            for text in raw_documents]"
   ]
  },
  {
   "cell_type": "code",
   "execution_count": 23,
   "metadata": {},
   "outputs": [
    {
     "name": "stdout",
     "output_type": "stream",
     "text": [
      "[['eao', 'digital', 'solutions', 's.a.', 'de', 'c.v.', 'eds0508123k0sebastian', 'del', 'piombo', ',', '82-2', ',', ',', 'nonoalco', ',', ',', 'benito', 'juarez', ',', 'ciudad', 'de', 'mexico', ',', 'mexico', ',', 'c.p', '.', '03700', ',', 'tel', '56832154', ',', '56839289recepcion', 'de', 'orden', 'de', 'compra', '91024/02/2017', '920', '871almacen', 'destinoobserv', '.direccionrfcproveedorsucursal', '19/makicop', 's.a.', 'de', 'c.v.', 'matriz', 'mak911213km3', 'principal', '290', 'oc', '920morena', '108', 'del', 'valle', '55344234', 'c.p', '.', '03100', 'clavenombrecosto', 'unitario', '%', 'desc.subtotalcant', '.', 'ordenadacant', '.', 'recibidaorden', 'de', 'compraentrada', 'almacen', 'ref', '.', 'recepcionm', '9129confirmadomx-500ntsharp', 'cartucho', 'de', 'toner', 'mx-m283n/363/503n', '40k', '5', '5', '5,673.05', '1,134.61', '0.00cclez0212ds56sharp', 'cuchilla', 'de', 'limpieza', 'mx', '-m283/', '363/503', '100k', '5', '5', '2,812.50', '562.50', '0.00total', 'i.v.a.desc', '.', '2subtotal', 'desc', '.', '1', '$', '8,485.55', '$', '0.00', '$', '1,357.69', '$', '9,843.24', '$', '0.00fecha', 'y', 'hora', 'de', 'impresionel', 'diacreado', 'por:25/02/201712:32:58p.m.jpereyraviernes24/02/2017', '04:03:27p', '.', 'm', '.'], ['eao', 'digital', 'solutions', 's.a.', 'de', 'c.v.', 'eds0508123k0sebastian', 'del', 'piombo', ',', '82-2', ',', ',', 'nonoalco', ',', ',', 'benito', 'juarez', ',', 'ciudad', 'de', 'mexico', ',', 'mexico', ',', 'c.p', '.', '03700', ',', 'tel', '56832154', ',', '56839289recepcion', 'de', 'orden', 'de', 'compra', '91024/02/2017', '920', '871almacen', 'destinoobserv', '.direccionrfcproveedorsucursal', '19/makicop', 's.a.', 'de', 'c.v.', 'matriz', 'mak911213km3', 'principal', '290', 'oc', '920morena', '108', 'del', 'valle', '55344234', 'c.p', '.', '03100', 'clavenombrecosto', 'unitario', '%', 'desc.subtotalcant', '.', 'ordenadacant', '.', 'recibidaorden', 'de', 'compraentrada', 'almacen', 'ref', '.', 'recepcionm', '9129confirmadomx-500ntsharp', 'cartucho', 'de', 'toner', 'mx-m283n/363/503n', '40k', '5', '5', '5,673.05', '1,134.61', '0.00cclez0212ds56sharp', 'cuchilla', 'de', 'limpieza', 'mx', '-m283/', '363/503', '100k', '5', '5', '2,812.50', '562.50', '0.00total', 'i.v.a.desc', '.', '2subtotal', 'desc', '.', '1', '$', '8,485.55', '$', '0.00', '$', '1,357.69', '$', '9,843.24', '$', '0.00fecha', 'y', 'hora', 'de', 'impresionel', 'diacreado', 'por:25/02/201712:32:58p.m.jpereyraviernes24/02/2017', '04:03:27p', '.', 'm', '.']]\n"
     ]
    }
   ],
   "source": [
    "print gen_docs"
   ]
  },
  {
   "cell_type": "code",
   "execution_count": 26,
   "metadata": {},
   "outputs": [
    {
     "name": "stdout",
     "output_type": "stream",
     "text": [
      "1199  \r"
     ]
    }
   ],
   "source": [
    "for i in range(0,1200):\n",
    "    print i,\" \\r\",\n",
    "    a = i+2\n",
    "    b =a+i\n",
    "    c = a+b+i"
   ]
  }
 ],
 "metadata": {
  "kernelspec": {
   "display_name": "Python 2",
   "language": "python",
   "name": "python2"
  },
  "language_info": {
   "codemirror_mode": {
    "name": "ipython",
    "version": 2
   },
   "file_extension": ".py",
   "mimetype": "text/x-python",
   "name": "python",
   "nbconvert_exporter": "python",
   "pygments_lexer": "ipython2",
   "version": "2.7.15"
  }
 },
 "nbformat": 4,
 "nbformat_minor": 2
}
